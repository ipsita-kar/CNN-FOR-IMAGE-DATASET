{
  "cells": [
    {
      "cell_type": "markdown",
      "metadata": {
        "id": "view-in-github",
        "colab_type": "text"
      },
      "source": [
        "<a href=\"https://colab.research.google.com/github/ipsita-kar/CNN-FOR-IMAGE-DATASET/blob/main/Welcome_To_Colab.ipynb\" target=\"_parent\"><img src=\"https://colab.research.google.com/assets/colab-badge.svg\" alt=\"Open In Colab\"/></a>"
      ]
    },
    {
      "cell_type": "markdown",
      "source": [
        "# 1. CNN Implementation with Variants of Convolution Operations\n",
        "Setup and Data Preparation"
      ],
      "metadata": {
        "id": "UkQ660DdE1lH"
      }
    },
    {
      "cell_type": "code",
      "source": [
        "import tensorflow as tf\n",
        "from tensorflow.keras.datasets import cifar10\n",
        "from tensorflow.keras.utils import to_categorical\n",
        "from tensorflow.keras import layers, models\n",
        "\n",
        "# Load CIFAR-10 dataset\n",
        "(x_train, y_train), (x_test, y_test) = tf.keras.datasets.cifar10.load_data()\n",
        "x_train, x_test = x_train / 255.0, x_test / 255.0  # Normalize images\n",
        "y_train, y_test = to_categorical(y_train), to_categorical(y_test)\n",
        "\n",
        "# Check the shape of data\n",
        "print(x_train.shape, y_train.shape)\n"
      ],
      "metadata": {
        "id": "o4J7LC_OEXXi",
        "outputId": "51e1ea6c-22c3-4062-8e02-63e2dadee57f",
        "colab": {
          "base_uri": "https://localhost:8080/"
        }
      },
      "execution_count": 1,
      "outputs": [
        {
          "output_type": "stream",
          "name": "stdout",
          "text": [
            "Downloading data from https://www.cs.toronto.edu/~kriz/cifar-10-python.tar.gz\n",
            "\u001b[1m170498071/170498071\u001b[0m \u001b[32m━━━━━━━━━━━━━━━━━━━━\u001b[0m\u001b[37m\u001b[0m \u001b[1m4s\u001b[0m 0us/step\n",
            "(50000, 32, 32, 3) (50000, 10)\n"
          ]
        }
      ]
    },
    {
      "cell_type": "markdown",
      "source": [
        "**Model with Basic Convolutions**"
      ],
      "metadata": {
        "id": "L67XxdpGEtAh"
      }
    },
    {
      "cell_type": "code",
      "source": [
        "def create_basic_cnn():\n",
        "    model = models.Sequential([\n",
        "        layers.Conv2D(32, (3, 3), activation='relu', input_shape=(32, 32, 3)),\n",
        "        layers.MaxPooling2D((2, 2)),\n",
        "        layers.Conv2D(64, (3, 3), activation='relu'),\n",
        "        layers.MaxPooling2D((2, 2)),\n",
        "        layers.Conv2D(128, (3, 3), activation='relu'),\n",
        "        layers.Flatten(),\n",
        "        layers.Dense(64, activation='relu'),\n",
        "        layers.Dense(10, activation='softmax')\n",
        "    ])\n",
        "\n",
        "    model.compile(optimizer='adam',\n",
        "                  loss='categorical_crossentropy',\n",
        "                  metrics=['accuracy'])\n",
        "    return model\n",
        "\n",
        "basic_cnn = create_basic_cnn()\n",
        "history_basic = basic_cnn.fit(x_train, y_train, epochs=10, validation_split=0.2, batch_size=64, verbose=2)\n"
      ],
      "metadata": {
        "id": "wzecbKRUElCG",
        "outputId": "889526e8-52b8-4617-de04-89a0bacff5ac",
        "colab": {
          "base_uri": "https://localhost:8080/"
        }
      },
      "execution_count": 2,
      "outputs": [
        {
          "output_type": "stream",
          "name": "stderr",
          "text": [
            "/usr/local/lib/python3.10/dist-packages/keras/src/layers/convolutional/base_conv.py:107: UserWarning: Do not pass an `input_shape`/`input_dim` argument to a layer. When using Sequential models, prefer using an `Input(shape)` object as the first layer in the model instead.\n",
            "  super().__init__(activity_regularizer=activity_regularizer, **kwargs)\n"
          ]
        },
        {
          "output_type": "stream",
          "name": "stdout",
          "text": [
            "Epoch 1/10\n",
            "625/625 - 58s - 92ms/step - accuracy: 0.4044 - loss: 1.6258 - val_accuracy: 0.4892 - val_loss: 1.4232\n",
            "Epoch 2/10\n",
            "625/625 - 57s - 91ms/step - accuracy: 0.5459 - loss: 1.2690 - val_accuracy: 0.5659 - val_loss: 1.2338\n",
            "Epoch 3/10\n",
            "625/625 - 81s - 129ms/step - accuracy: 0.6072 - loss: 1.1184 - val_accuracy: 0.6202 - val_loss: 1.0812\n",
            "Epoch 4/10\n",
            "625/625 - 83s - 133ms/step - accuracy: 0.6460 - loss: 1.0096 - val_accuracy: 0.6394 - val_loss: 1.0253\n",
            "Epoch 5/10\n",
            "625/625 - 81s - 129ms/step - accuracy: 0.6744 - loss: 0.9349 - val_accuracy: 0.6628 - val_loss: 0.9748\n",
            "Epoch 6/10\n",
            "625/625 - 82s - 131ms/step - accuracy: 0.6984 - loss: 0.8598 - val_accuracy: 0.6807 - val_loss: 0.9317\n",
            "Epoch 7/10\n",
            "625/625 - 82s - 132ms/step - accuracy: 0.7175 - loss: 0.8057 - val_accuracy: 0.6877 - val_loss: 0.9022\n",
            "Epoch 8/10\n",
            "625/625 - 82s - 132ms/step - accuracy: 0.7371 - loss: 0.7551 - val_accuracy: 0.7086 - val_loss: 0.8515\n",
            "Epoch 9/10\n",
            "625/625 - 82s - 131ms/step - accuracy: 0.7537 - loss: 0.7092 - val_accuracy: 0.7082 - val_loss: 0.8589\n",
            "Epoch 10/10\n",
            "625/625 - 82s - 131ms/step - accuracy: 0.7684 - loss: 0.6619 - val_accuracy: 0.7112 - val_loss: 0.8531\n"
          ]
        }
      ]
    },
    {
      "cell_type": "markdown",
      "source": [
        "# Model with Dilated Convolutions\n",
        "\n"
      ],
      "metadata": {
        "id": "SeMZiS-IFRPd"
      }
    },
    {
      "cell_type": "code",
      "source": [
        "def create_dilated_cnn():\n",
        "    model = models.Sequential([\n",
        "        layers.Conv2D(32, (3, 3), activation='relu', padding='same', dilation_rate=2, input_shape=(32, 32, 3)),\n",
        "        layers.MaxPooling2D((2, 2)),\n",
        "        layers.Conv2D(64, (3, 3), activation='relu', padding='same', dilation_rate=2),\n",
        "        layers.MaxPooling2D((2, 2)),\n",
        "        layers.Conv2D(128, (3, 3), activation='relu', padding='same', dilation_rate=2),\n",
        "        layers.Flatten(),\n",
        "        layers.Dense(64, activation='relu'),\n",
        "        layers.Dense(10, activation='softmax')\n",
        "    ])\n",
        "\n",
        "    model.compile(optimizer='adam',\n",
        "                  loss='categorical_crossentropy',\n",
        "                  metrics=['accuracy'])\n",
        "    return model\n",
        "\n",
        "dilated_cnn = create_dilated_cnn()\n",
        "history_dilated = dilated_cnn.fit(x_train, y_train, epochs=10, validation_split=0.2, batch_size=64, verbose=2)\n"
      ],
      "metadata": {
        "id": "48TqwgrVFVrC",
        "outputId": "a8c37117-7cc1-4c71-fed4-87f47b2970f3",
        "colab": {
          "base_uri": "https://localhost:8080/"
        }
      },
      "execution_count": 3,
      "outputs": [
        {
          "output_type": "stream",
          "name": "stdout",
          "text": [
            "Epoch 1/10\n",
            "625/625 - 107s - 171ms/step - accuracy: 0.4202 - loss: 1.5803 - val_accuracy: 0.5334 - val_loss: 1.3296\n",
            "Epoch 2/10\n",
            "625/625 - 145s - 231ms/step - accuracy: 0.5745 - loss: 1.1887 - val_accuracy: 0.6280 - val_loss: 1.0630\n",
            "Epoch 3/10\n",
            "625/625 - 142s - 227ms/step - accuracy: 0.6400 - loss: 1.0148 - val_accuracy: 0.6544 - val_loss: 0.9978\n",
            "Epoch 4/10\n",
            "625/625 - 139s - 223ms/step - accuracy: 0.6843 - loss: 0.8963 - val_accuracy: 0.6721 - val_loss: 0.9384\n",
            "Epoch 5/10\n",
            "625/625 - 141s - 226ms/step - accuracy: 0.7190 - loss: 0.8020 - val_accuracy: 0.6960 - val_loss: 0.8747\n",
            "Epoch 6/10\n",
            "625/625 - 141s - 226ms/step - accuracy: 0.7505 - loss: 0.7129 - val_accuracy: 0.7105 - val_loss: 0.8524\n",
            "Epoch 7/10\n",
            "625/625 - 143s - 229ms/step - accuracy: 0.7805 - loss: 0.6282 - val_accuracy: 0.7087 - val_loss: 0.8802\n",
            "Epoch 8/10\n",
            "625/625 - 143s - 229ms/step - accuracy: 0.8080 - loss: 0.5494 - val_accuracy: 0.7133 - val_loss: 0.8744\n",
            "Epoch 9/10\n",
            "625/625 - 139s - 223ms/step - accuracy: 0.8412 - loss: 0.4630 - val_accuracy: 0.7124 - val_loss: 0.9058\n",
            "Epoch 10/10\n",
            "625/625 - 144s - 230ms/step - accuracy: 0.8667 - loss: 0.3874 - val_accuracy: 0.7083 - val_loss: 0.9631\n"
          ]
        }
      ]
    },
    {
      "cell_type": "markdown",
      "source": [
        "# Model with Transpose Convolutions"
      ],
      "metadata": {
        "id": "T8SqITCFPNwL"
      }
    },
    {
      "cell_type": "code",
      "source": [
        "def create_transpose_cnn():\n",
        "    model = models.Sequential([\n",
        "        layers.Conv2D(32, (3, 3), activation='relu', input_shape=(32, 32, 3)),\n",
        "        layers.MaxPooling2D((2, 2)),\n",
        "        layers.Conv2D(64, (3, 3), activation='relu'),\n",
        "        layers.MaxPooling2D((2, 2)),\n",
        "        layers.Conv2DTranspose(128, (3, 3), activation='relu', strides=(2, 2)),\n",
        "        layers.Flatten(),\n",
        "        layers.Dense(64, activation='relu'),\n",
        "        layers.Dense(10, activation='softmax')\n",
        "    ])\n",
        "\n",
        "    model.compile(optimizer='adam',\n",
        "                  loss='categorical_crossentropy',\n",
        "                  metrics=['accuracy'])\n",
        "    return model\n",
        "\n",
        "transpose_cnn = create_transpose_cnn()\n",
        "history_transpose = transpose_cnn.fit(x_train, y_train, epochs=10, validation_split=0.2, batch_size=64, verbose=2)\n"
      ],
      "metadata": {
        "id": "P4NWZ5MFPUxg",
        "outputId": "0b1fd245-76d9-4095-9530-0cb5657b5177",
        "colab": {
          "base_uri": "https://localhost:8080/"
        }
      },
      "execution_count": 5,
      "outputs": [
        {
          "output_type": "stream",
          "name": "stdout",
          "text": [
            "Epoch 1/10\n",
            "625/625 - 88s - 141ms/step - accuracy: 0.4516 - loss: 1.5121 - val_accuracy: 0.5642 - val_loss: 1.2324\n",
            "Epoch 2/10\n",
            "625/625 - 139s - 223ms/step - accuracy: 0.6079 - loss: 1.1088 - val_accuracy: 0.6347 - val_loss: 1.0378\n",
            "Epoch 3/10\n",
            "625/625 - 142s - 227ms/step - accuracy: 0.6770 - loss: 0.9292 - val_accuracy: 0.6815 - val_loss: 0.9181\n",
            "Epoch 4/10\n",
            "625/625 - 83s - 133ms/step - accuracy: 0.7200 - loss: 0.8074 - val_accuracy: 0.6883 - val_loss: 0.8880\n",
            "Epoch 5/10\n",
            "625/625 - 142s - 227ms/step - accuracy: 0.7554 - loss: 0.7023 - val_accuracy: 0.7157 - val_loss: 0.8339\n",
            "Epoch 6/10\n",
            "625/625 - 141s - 226ms/step - accuracy: 0.7900 - loss: 0.6016 - val_accuracy: 0.7141 - val_loss: 0.8696\n",
            "Epoch 7/10\n",
            "625/625 - 142s - 227ms/step - accuracy: 0.8269 - loss: 0.4988 - val_accuracy: 0.7200 - val_loss: 0.8591\n",
            "Epoch 8/10\n",
            "625/625 - 84s - 134ms/step - accuracy: 0.8591 - loss: 0.4081 - val_accuracy: 0.7208 - val_loss: 0.9185\n",
            "Epoch 9/10\n",
            "625/625 - 141s - 225ms/step - accuracy: 0.8867 - loss: 0.3259 - val_accuracy: 0.7157 - val_loss: 0.9774\n",
            "Epoch 10/10\n",
            "625/625 - 144s - 230ms/step - accuracy: 0.9166 - loss: 0.2439 - val_accuracy: 0.7109 - val_loss: 1.0701\n"
          ]
        }
      ]
    },
    {
      "cell_type": "code",
      "source": [
        "def print_results(model, history, model_name):\n",
        "    _, accuracy = model.evaluate(x_test, y_test, verbose=0)\n",
        "    params = model.count_params()\n",
        "    print(f\"{model_name} - Accuracy: {accuracy:.4f}, Parameters: {params}\")\n",
        "\n",
        "print_results(basic_cnn, history_basic, \"Basic CNN\")\n",
        "print_results(dilated_cnn, history_dilated, \"Dilated CNN\")\n",
        "print_results(transpose_cnn, history_transpose, \"Transpose CNN\")\n"
      ],
      "metadata": {
        "id": "yJqkv34oh7rt",
        "outputId": "9c6c1fd5-ba9b-4443-c04e-b73baf3cb6fe",
        "colab": {
          "base_uri": "https://localhost:8080/"
        }
      },
      "execution_count": 6,
      "outputs": [
        {
          "output_type": "stream",
          "name": "stdout",
          "text": [
            "Basic CNN - Accuracy: 0.7024, Parameters: 225034\n",
            "Dilated CNN - Accuracy: 0.6960, Parameters: 618250\n",
            "Transpose CNN - Accuracy: 0.7017, Parameters: 1478410\n"
          ]
        }
      ]
    }
  ],
  "metadata": {
    "colab": {
      "name": "Welcome To Colab",
      "toc_visible": true,
      "provenance": [],
      "include_colab_link": true
    },
    "kernelspec": {
      "display_name": "Python 3",
      "name": "python3"
    }
  },
  "nbformat": 4,
  "nbformat_minor": 0
}